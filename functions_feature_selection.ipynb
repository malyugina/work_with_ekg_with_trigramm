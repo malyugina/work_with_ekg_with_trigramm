{
 "cells": [
  {
   "cell_type": "code",
   "execution_count": 1,
   "metadata": {
    "collapsed": true
   },
   "outputs": [],
   "source": [
    "import os, sys\n",
    "import numpy as np\n",
    "import matplotlib.pyplot as plt\n",
    "import pandas as pd\n",
    "import time\n",
    "\n",
    "from sklearn.feature_extraction.text import CountVectorizer\n",
    "\n",
    "%matplotlib inline "
   ]
  },
  {
   "cell_type": "code",
   "execution_count": 2,
   "metadata": {
    "collapsed": true
   },
   "outputs": [],
   "source": [
    "path_to_data = '/mnt/storage/HRV/data_atfer_Nekit_skripts/'\n",
    "\n",
    "# ожидается, что внутри папки, прописанной в пути будут\n",
    "# selected_mod.dta\n",
    "# папка code_string/ с записанными в ней кодограмами вида gidn.txt\n",
    "# папка R-T_code_with_markup/ с записанными в ней R-T сигналами вида gidn.npy (в этом формате сохраняет np:save)\n",
    "# можно поменять на свое расположение и формат, изменив строки 13, 15, 39, 40 в тесте 1\n",
    "# и строки 8, 10, 28, 30 в тесте 2\n",
    "# есть два способа загрузки данных\n",
    "# считывание кодограммы\n",
    "# if os.path.isfile(path_to_data + \"code_string/\" + str(gidn_i) + '.txt'):   \n",
    "#     trigramm_i = data2trigramm(mode = 'file', path_to_codegramm = path_to_data + \"code_string/\" + str(gidn_i) + '.txt')\n",
    "#     trigramm.append(trigramm_i)\n",
    "# считывание R, T сигналов и вычисление кодограммы, триграмм\n",
    "# if os.path.isfile(path_to_data + \"R-T_code_with_markup/\" + str(gidn_i) + '.npy'):\n",
    "#     data = np.load(path_to_data + 'R-T_code_with_markup/' + str(gidn_i) + '.npy')\n",
    "#     R = data[0]\n",
    "#     T = data[1]\n",
    "#     trigramm.append(data2trigramm(R_T2codegramm(R, T)))"
   ]
  },
  {
   "cell_type": "code",
   "execution_count": 3,
   "metadata": {
    "collapsed": true
   },
   "outputs": [],
   "source": [
    "str2y = {'No':0, 'Have now':1, 'Have had':1}\n",
    "str2num = {'a':0, 'b':1, 'c':2, 'd':3, 'e':4, 'f':5}\n",
    "#перевод триграммы в число\n",
    "\n",
    "def trigram2num (string):\n",
    "    num = 0\n",
    "    for i, char in enumerate(string):\n",
    "        num += str2num[char]*(6**i)\n",
    "    \n",
    "    return num"
   ]
  },
  {
   "cell_type": "code",
   "execution_count": 68,
   "metadata": {
    "collapsed": true
   },
   "outputs": [],
   "source": [
    "# перевод R-T в кодограмму\n",
    "\n",
    "def R_T2codegramm(R, T):\n",
    "    \n",
    "    a = np.arctan(R/T)\n",
    "    dT = T[1:] - T[:-1]\n",
    "    dR = R[1:] - R[:-1]\n",
    "    da = a[1:] - a[:-1]\n",
    "\n",
    "    codegramm = []\n",
    "    for i, dt in enumerate(dT):\n",
    "        if dt > 0 and dR[i] > 0 and da[i] > 0:\n",
    "            codegramm.append('A')\n",
    "        elif dt <= 0 and dR[i] <= 0 and da[i] > 0:\n",
    "            codegramm.append('B')\n",
    "        elif dt <=0 and dR[i] > 0 and da[i] > 0:\n",
    "            codegramm.append('C')\n",
    "        elif dt > 0 and dR[i] <= 0 and da[i] <= 0:\n",
    "            codegramm.append('D')\n",
    "        elif dt > 0 and dR[i] > 0 and da[i] <= 0:\n",
    "            codegramm.append('E')\n",
    "        elif dt <= 0 and dR[i] <= 0 and da[i] <= 0:\n",
    "            codegramm.append('F')\n",
    "        elif T[i] ==  0 or T[i+1] == 0:\n",
    "            continue\n",
    "        else:\n",
    "            print ('ups...', i, 'dt', dt, 'dR', dR[i], 'da', da[i])\n",
    "            \n",
    "    return ''.join(codegramm)\n"
   ]
  },
  {
   "cell_type": "code",
   "execution_count": 5,
   "metadata": {
    "collapsed": true
   },
   "outputs": [],
   "source": [
    "# перевод кодограммы в триграммы. принимает на вход кодограмму или файл, в котором она сохранена\n",
    "\n",
    "def data2trigramm(codegramm = '', mode = 'R-T', path_to_codegramm = ''):\n",
    "    \n",
    "    if mode == 'R-T':\n",
    "        ngramm = CountVectorizer(analyzer='char', ngram_range=(3, 3))\n",
    "        analyze = ngramm.build_analyzer()\n",
    "        words = analyze(codegramm)\n",
    "\n",
    "        trigramm = np.zeros(6**3)\n",
    "        for i in words:\n",
    "            trigramm[trigram2num(i)] += 1\n",
    "\n",
    "        trigramm = trigramm/sum(trigramm)\n",
    "    elif mode == 'file':\n",
    "        \n",
    "        ngramm = CountVectorizer(input = 'file', analyzer='char', ngram_range=(3, 3))\n",
    "        analyze = ngramm.build_analyzer()\n",
    "        with open(path_to_codegramm, \"r\") as o:\n",
    "            words = analyze(o)\n",
    "\n",
    "        trigramm = np.zeros(6**3)\n",
    "        for i in words:\n",
    "            trigramm[trigram2num(i)] += 1\n",
    "\n",
    "        trigramm = trigramm/sum(trigramm)\n",
    "\n",
    "    return trigramm"
   ]
  },
  {
   "cell_type": "code",
   "execution_count": 102,
   "metadata": {
    "collapsed": true
   },
   "outputs": [],
   "source": [
    "# первый тест из статьи воронцова, нужно перемешать внутри сигнала кардиоциклы и посчитать триграммы.\n",
    "# триграммы посчитанные по исходному сигналу должны отличаться от вычесленных по перемешанному.\n",
    "\n",
    "def test1(gidn, path_to_data, K, fi): \n",
    "    \n",
    "    selected_pp = pd.read_stata(path_to_data + 'selected_mod.dta')\n",
    "\n",
    "    F_w = []\n",
    "    B_w = []\n",
    "    for i in range(K):\n",
    "        trigramm = []\n",
    "        for gidn_i in gidn: #800 signals ~ 10 min\n",
    "            if os.path.isfile(path_to_data + \"R-T_code_with_markup/\" + str(gidn_i) + '.npy'):\n",
    "\n",
    "                data = np.load(path_to_data + 'R-T_code_with_markup/' + str(gidn_i) + '.npy')\n",
    "                np.random.shuffle(data.T)\n",
    "            \n",
    "                fi = 1.0/(len(data[0]) - 3)\n",
    "                R = data[0]\n",
    "                T = data[1]\n",
    "\n",
    "                trigramm.append(data2trigramm(R_T2codegramm(R, T)))\n",
    "\n",
    "        trigramm = np.array(trigramm)\n",
    "        F_w_i = np.mean(trigramm, axis = 0)\n",
    "        F_w.append(F_w_i)\n",
    "        trigramm[trigramm < fi] = 0\n",
    "        B_w_i = np.mean(trigramm, axis = 0)\n",
    "        B_w.append(B_w_i)\n",
    "\n",
    "    F_w = np.array(F_w)\n",
    "    B_w = np.array(B_w)   \n",
    "\n",
    "#  __________________________________________________________________________________________________________\n",
    "\n",
    "    for gidn_i in gidn:\n",
    "        trigramm = []\n",
    "        if os.path.isfile(path_to_data + \"R-T_code_with_markup/\" + str(gidn_i) + '.npy'):\n",
    "\n",
    "            data = np.load(path_to_data + 'R-T_code_with_markup/' + str(gidn_i) + '.npy')\n",
    "            R = data[0]\n",
    "            T = data[1]\n",
    "\n",
    "            trigramm.append(data2trigramm(R_T2codegramm(R, T)))\n",
    "\n",
    "    trigramm = np.array(trigramm)\n",
    "    F_w_orig = np.mean(trigramm, axis = 0)\n",
    "    trigramm[trigramm < fi] = 0\n",
    "    B_w_orig = np.mean(trigramm, axis = 0)\n",
    "    \n",
    "# ________________________________________________________________________________________________________________\n",
    "# тут уже подсчитанные признаки и критерий информативности триграмм. можно возвращать его\n",
    "\n",
    "#     res1 = np.vstack((B_w_orig - np.min(B_w, axis = 0) < 0, np.max(B_w, axis = 0) - B_w_orig < 0)).T.any(axis=1)\n",
    "\n",
    "#     res2 = np.vstack((F_w_orig - np.min(F_w, axis = 0) < 0, np.max(F_w, axis = 0) - F_w_orig < 0)).T.any(axis=1)\n",
    "\n",
    "#     DF = (2*F_w_orig - np.min(F_w, axis = 0) - np.max(F_w, axis = 0))/(np.max(F_w, axis = 0) - np.min(F_w, axis = 0))\n",
    "#     res3 = np.vstack((DF > 1, DF < -1)).T.any(axis=1)\n",
    "\n",
    "#     DB = (2*B_w_orig - np.min(B_w, axis = 0) - np.max(B_w, axis = 0))/(np.max(B_w, axis = 0) - np.min(B_w, axis = 0))\n",
    "#     res4 = np.vstack((DB > 1, DB < -1)).T.any(axis=1)\n",
    "\n",
    "#     res_all = np.vstack((res1, res2, res3, res4)).T.any(axis=1)\n",
    "    \n",
    "    return (F_w, F_w_orig, B_w, B_w_orig)"
   ]
  },
  {
   "cell_type": "code",
   "execution_count": 119,
   "metadata": {
    "collapsed": false
   },
   "outputs": [],
   "source": [
    "def test2(gidn, gidn_ill, path_to_data, K, fi):\n",
    "    F_w = []\n",
    "    B_w = []\n",
    "    for i in range(K):\n",
    "        random_gidn = np.random.choice(gidn, 10) #10 - количество случайно взятых гидн из выборки\n",
    "        trigramm = []\n",
    "        for gidn_i in random_gidn:\n",
    "            if os.path.isfile(path_to_data + \"code_string/\" + str(gidn_i) + '.txt'):\n",
    "                \n",
    "                trigramm_i = data2trigramm(mode = 'file', path_to_codegramm = path_to_data + \"code_string/\" + str(gidn_i) + '.txt')\n",
    "                trigramm.append(trigramm_i)\n",
    "                fi = 1.0/(len(data[0]) - 3)\n",
    "\n",
    "        trigramm = np.array(trigramm)\n",
    "        F_w_i = np.mean(trigramm, axis = 0)\n",
    "        F_w.append(F_w_i)\n",
    "        trigramm[trigramm < fi] = 0\n",
    "        B_w_i = np.mean(trigramm, axis = 0)\n",
    "        B_w.append(B_w_i)\n",
    "\n",
    "    F_w = np.array(F_w)\n",
    "    B_w = np.array(B_w)\n",
    "    \n",
    "# _________________________________________________________________________________________________________________\n",
    "\n",
    "    X = []\n",
    "    for gidn_i in gidn_ill:\n",
    "        trigramm = []\n",
    "        if os.path.isfile(path_to_data + \"code_string/\" + str(gidn_i) + '.txt'):\n",
    "            \n",
    "            trigramm_i = data2trigramm(mode = 'file', path_to_codegramm = path_to_data + \"code_string/\" + str(gidn_i) + '.txt')\n",
    "            trigramm.append(trigramm_i)\n",
    "\n",
    "    trigramm = np.array(trigramm)\n",
    "    F_w_orig = np.mean(trigramm, axis = 0)\n",
    "    trigramm[trigramm < fi] = 0\n",
    "    B_w_orig = np.mean(trigramm, axis = 0)\n",
    "# ________________________________________________________________________________________________________________\n",
    "# тут уже подсчитанные признаки и критерий информативности триграмм. можно возвращать его\n",
    "\n",
    "#     res1 = np.vstack((B_w_orig - np.min(B_w, axis = 0) < 0, np.max(B_w, axis = 0) - B_w_orig < 0)).T.any(axis=1)\n",
    "\n",
    "#     res2 = np.vstack((F_w_orig - np.min(F_w, axis = 0) < 0, np.max(F_w, axis = 0) - F_w_orig < 0)).T.any(axis=1)\n",
    "\n",
    "#     DF = (2*F_w_orig - np.min(F_w, axis = 0) - np.max(F_w, axis = 0))/(np.max(F_w, axis = 0) - np.min(F_w, axis = 0))\n",
    "#     res3 = np.vstack((DF > 1, DF < -1)).T.any(axis=1)\n",
    "\n",
    "#     DB = (2*B_w_orig - np.min(B_w, axis = 0) - np.max(B_w, axis = 0))/(np.max(B_w, axis = 0) - np.min(B_w, axis = 0))\n",
    "#     res4 = np.vstack((DB > 1, DB < -1)).T.any(axis=1)\n",
    "\n",
    "    return (F_w, F_w_orig, B_w, B_w_orig)"
   ]
  },
  {
   "cell_type": "code",
   "execution_count": 108,
   "metadata": {
    "collapsed": false
   },
   "outputs": [],
   "source": [
    "files = os.listdir(path_to_data + \"R-T_code_with_markup/\")\n",
    "gidn = [i[:-4] for i in files[:10]]"
   ]
  },
  {
   "cell_type": "code",
   "execution_count": 120,
   "metadata": {
    "collapsed": false
   },
   "outputs": [],
   "source": [
    "(F_w, F_w_orig, B_w, B_w_orig) = test2(gidn, gidn, path_to_data, 2, 0.001)"
   ]
  }
 ],
 "metadata": {
  "kernelspec": {
   "display_name": "Python 3",
   "language": "python",
   "name": "python3"
  },
  "language_info": {
   "codemirror_mode": {
    "name": "ipython",
    "version": 3
   },
   "file_extension": ".py",
   "mimetype": "text/x-python",
   "name": "python",
   "nbconvert_exporter": "python",
   "pygments_lexer": "ipython3",
   "version": "3.4.3"
  }
 },
 "nbformat": 4,
 "nbformat_minor": 0
}
