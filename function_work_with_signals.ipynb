{
 "cells": [
  {
   "cell_type": "code",
   "execution_count": 1,
   "metadata": {
    "collapsed": true
   },
   "outputs": [],
   "source": [
    "import numpy as np \n",
    "import matplotlib.pyplot as plt \n",
    "import os \n",
    "from mpl_toolkits.mplot3d import Axes3D\n",
    "import time\n",
    "\n"
   ]
  },
  {
   "cell_type": "code",
   "execution_count": 2,
   "metadata": {
    "collapsed": true
   },
   "outputs": [],
   "source": [
    "path_to_data = '/mnt/storage/HRV/data_atfer_Nekit_skripts/'"
   ]
  },
  {
   "cell_type": "code",
   "execution_count": 14,
   "metadata": {
    "collapsed": false
   },
   "outputs": [],
   "source": [
    "# на вход files - название файла с расширением (.153, .A53)\n",
    "# ожидается, что внутри папки, прописанной в пути будут\n",
    "# папка markup/ с записанной в ней разметкой\n",
    "# папка filtered/ с сигналами\n",
    "\n",
    "def signal2R_T(file_, path_to_data):\n",
    "    print (file_)\n",
    "\n",
    "    if file_[-3] == '1':  #частота дискретизации\n",
    "        frequency = 125\n",
    "    if file_[-3] == 'A':\n",
    "        frequency = 1000\n",
    "# считывание данных\n",
    "    if os.path.isfile(path_to_data + \"R-T_code_with_markup/\" + file_[:-4] + '.npy'):\n",
    "        print ('find code for', file_)\n",
    "        return None\n",
    "\n",
    "    with open(path_to_data + 'filtered/' + file_[:-4] + '_filtered' + file_[-4:], 'rb') as f: \n",
    "        data = np.fromfile(f, np.int16)\n",
    "\n",
    "    path_to_markup = path_to_data + 'markup/' + file_[:-4] + '_filtered_markup.csv'\n",
    "    if os.path.isfile(path_to_markup):\n",
    "        markup = np.loadtxt(path_to_markup)\n",
    "    else:\n",
    "        print ('can\\'t find markup for', file_)\n",
    "        return None\n",
    "# поиск R\n",
    "#         markup_mode = []\n",
    "    T = (markup[1:] - markup[:-1])*1000/frequency\n",
    "    R = []\n",
    "    for i in markup:\n",
    "        for j in range(round(100/1000/frequency)):\n",
    "            if j == 99:\n",
    "#                     print ('bad markup', i)\n",
    "                R.append(0)\n",
    "                break\n",
    "# если найден локальный минимум - вычисляем R\n",
    "            if (np.hstack((data[i-j+1:i-j+3] > data[i-j], data[i-j-2:i-j] >= data[i-j]))).all():\n",
    "                if data[i]-data[i-j] < 10:\n",
    "                    continue\n",
    "                R.append(data[i]-data[i-j])\n",
    "                break  \n",
    "# делаем разметку    \n",
    "#             if i == markup[0]:\n",
    "#                 markup_mode.append(1) # 1 == normal\n",
    "#             elif i == markup[-1]:\n",
    "#                 if R[-1] > 100 and R[-1] < 800 and  T[i_i-1] > 200 and T[i_i-1] < 2000\\\n",
    "#                 and T[i_i - 1]/T[i_i - 2] > 0.8 and T[i_i - 1]/T[i_i - 2] < 1.2:\n",
    "#                     markup_mode.append(1)\n",
    "#                 else:\n",
    "#                     markup_mode.append(0) # 0 == bad peak\n",
    "#             else:\n",
    "#                 if T[i_i-1] > 200 and T[i_i-1] < 2000 \\\n",
    "#                 and R[-1] > 100 and R[-1] < 800 \\\n",
    "#                 and T[i_i]/T[i_i - 1] > 0.8 and T[i_i]/T[i_i - 1] < 1.2:\n",
    "#                     markup_mode.append(1)\n",
    "#                 else:\n",
    "#                     markup_mode.append(0)\n",
    "\n",
    "    R = R[:-1]\n",
    "        \n",
    "    return (R, T)\n"
   ]
  },
  {
   "cell_type": "code",
   "execution_count": 5,
   "metadata": {
    "collapsed": true
   },
   "outputs": [],
   "source": [
    "files = os.listdir(path_to_3d_signal)"
   ]
  },
  {
   "cell_type": "code",
   "execution_count": 15,
   "metadata": {
    "collapsed": false
   },
   "outputs": [
    {
     "name": "stdout",
     "output_type": "stream",
     "text": [
      "310240.A53\n",
      "find code for 310240.A53\n"
     ]
    }
   ],
   "source": [
    "signal2R_T(files[0], path_to_data)"
   ]
  }
 ],
 "metadata": {
  "kernelspec": {
   "display_name": "Python 3",
   "language": "python",
   "name": "python3"
  },
  "language_info": {
   "codemirror_mode": {
    "name": "ipython",
    "version": 3
   },
   "file_extension": ".py",
   "mimetype": "text/x-python",
   "name": "python",
   "nbconvert_exporter": "python",
   "pygments_lexer": "ipython3",
   "version": "3.4.3"
  }
 },
 "nbformat": 4,
 "nbformat_minor": 0
}
