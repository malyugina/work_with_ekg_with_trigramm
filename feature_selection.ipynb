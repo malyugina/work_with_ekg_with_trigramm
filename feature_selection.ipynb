{
 "cells": [
  {
   "cell_type": "code",
   "execution_count": 1,
   "metadata": {
    "collapsed": true
   },
   "outputs": [],
   "source": [
    "import os, sys\n",
    "import numpy as np\n",
    "import matplotlib.pyplot as plt\n",
    "import pandas as pd\n",
    "import time\n",
    "\n",
    "from sklearn.feature_extraction.text import CountVectorizer\n",
    "\n",
    "\n",
    "%matplotlib inline"
   ]
  },
  {
   "cell_type": "code",
   "execution_count": 2,
   "metadata": {
    "collapsed": true
   },
   "outputs": [],
   "source": [
    "path_to_data = '/mnt/storage/HRV/data_atfer_Nekit_skripts/'\n",
    "selected_pp = pd.read_stata(path_to_data + 'selected_mod.dta')"
   ]
  },
  {
   "cell_type": "code",
   "execution_count": 71,
   "metadata": {
    "collapsed": false
   },
   "outputs": [
    {
     "data": {
      "text/plain": [
       "70"
      ]
     },
     "execution_count": 71,
     "metadata": {},
     "output_type": "execute_result"
    }
   ],
   "source": [
    "# количество здоровых людей\n",
    "\n",
    "# deasis = np.array(selected_pp.T[57:92].values)\n",
    "deasis = np.vstack((selected_pp.T[57:58].values, selected_pp.T[61:91].values))\n",
    "deasis[deasis == 'No'] = 1\n",
    "deasis[deasis == 'Have had'] = 1\n",
    "deasis[deasis == 'Have now'] = 0\n",
    "deasis[deasis == ''] = 1\n",
    "a = np.sum(deasis, axis = 0)\n",
    "len(a[a == 31])"
   ]
  },
  {
   "cell_type": "code",
   "execution_count": 75,
   "metadata": {
    "collapsed": false
   },
   "outputs": [
    {
     "data": {
      "text/plain": [
       "array([110552, 112556, 112657, 112825, 113907, 210040, 210055, 210142,\n",
       "       210157, 210169, 210218, 210300, 210394, 210664, 221351, 221358,\n",
       "       221393, 221469, 221582, 221650, 310232, 310298, 310379, 310571,\n",
       "       310574, 310642, 320973, 321048, 410924, 410937, 411017, 411175,\n",
       "       411219, 411247, 411807, 411828, 412212, 412217, 412371, 412419,\n",
       "       412479, 412538, 412655, 412690, 412730, 412852, 413052, 413234,\n",
       "       420071, 420263, 510448, 510987, 511041, 511182, 520059, 520093,\n",
       "       520097, 520559, 610020, 610041, 620255, 620634, 620850, 710012,\n",
       "       710230, 710252, 720044, 720103, 720522, 810234], dtype=int32)"
      ]
     },
     "execution_count": 75,
     "metadata": {},
     "output_type": "execute_result"
    }
   ],
   "source": [
    "selected_pp.GIDN.values[a==31]"
   ]
  },
  {
   "cell_type": "code",
   "execution_count": 4,
   "metadata": {
    "collapsed": false
   },
   "outputs": [
    {
     "data": {
      "text/plain": [
       "837"
      ]
     },
     "execution_count": 4,
     "metadata": {},
     "output_type": "execute_result"
    }
   ],
   "source": [
    "#выбираем нужные для теста gidn\n",
    "\n",
    "iSelected = np.vstack((selected_pp.M8_4_19 == 'Have now', selected_pp.M8_4_19 == 'Have had')).any(axis = 0)\n",
    "files = selected_pp[iSelected].GIDN.values\n",
    "len(files)"
   ]
  },
  {
   "cell_type": "code",
   "execution_count": 5,
   "metadata": {
    "collapsed": true
   },
   "outputs": [],
   "source": [
    "str2y = {'No':0, 'Have now':1, 'Have had':1}\n",
    "str2num = {'a':0, 'b':1, 'c':2, 'd':3, 'e':4, 'f':5}\n",
    "#перевод триграммы в число\n",
    "\n",
    "def trigram2num (string):\n",
    "    num = 0\n",
    "    for i, char in enumerate(string):\n",
    "        num += str2num[char]*(6**i)\n",
    "    \n",
    "    return num"
   ]
  },
  {
   "cell_type": "code",
   "execution_count": 169,
   "metadata": {
    "collapsed": false
   },
   "outputs": [
    {
     "name": "stderr",
     "output_type": "stream",
     "text": [
      "/usr/local/lib/python3.4/dist-packages/ipykernel/__main__.py:18: DeprecationWarning: using a non-integer number instead of an integer will result in an error in the future\n",
      "/usr/local/lib/python3.4/dist-packages/ipykernel/__main__.py:19: DeprecationWarning: using a non-integer number instead of an integer will result in an error in the future\n",
      "/usr/local/lib/python3.4/dist-packages/ipykernel/__main__.py:21: DeprecationWarning: using a non-integer number instead of an integer will result in an error in the future\n"
     ]
    },
    {
     "name": "stdout",
     "output_type": "stream",
     "text": [
      "90671\n"
     ]
    }
   ],
   "source": [
    "with open(path_to_data + 'filtered/' + '113907' + '_filtered' + '.A53', 'rb') as f: \n",
    "    data = np.fromfile(f, np.int16)\n",
    "\n",
    "path_to_markup = path_to_data + 'markup/' + '113907' + '_filtered_markup.csv'\n",
    "if os.path.isfile(path_to_markup):\n",
    "    markup = np.loadtxt(path_to_markup)\n",
    "else:\n",
    "    print ('can\\'t find markup for', file_)\n",
    "\n",
    "\n",
    "T = markup[1:] - markup[:-1]\n",
    "R = []\n",
    "for i in markup:\n",
    "    for j in range(100):\n",
    "        if j == 99:\n",
    "            R.append(0)\n",
    "            break\n",
    "        if (np.hstack((data[i-j+1:i-j+3] > data[i-j], data[i-j-2:i-j] >= data[i-j]))).all():\n",
    "            if data[i]-data[i-j] < 10:\n",
    "                continue\n",
    "            R.append(data[i]-data[i-j])\n",
    "            break\n",
    "\n",
    "print (len(markup))\n",
    "\n",
    "\n",
    "R = np.array(R[:-1])\n",
    "# iSelected = T > 200\n",
    "# R = R[iSelected]\n",
    "# T = T[iSelected]\n",
    "\n",
    "# iSelected = T < 2000\n",
    "# R = R[iSelected]\n",
    "# T = T[iSelected]\n",
    "\n",
    "# iSelected = R > 0\n",
    "# R = R[iSelected]\n",
    "# T = T[iSelected]\n",
    "\n",
    "# print (len(R))"
   ]
  },
  {
   "cell_type": "code",
   "execution_count": 444,
   "metadata": {
    "collapsed": false
   },
   "outputs": [
    {
     "name": "stdout",
     "output_type": "stream",
     "text": [
      "90669\n",
      "90669\n",
      "73064\n"
     ]
    },
    {
     "name": "stderr",
     "output_type": "stream",
     "text": [
      "/usr/local/lib/python3.4/dist-packages/ipykernel/__main__.py:23: DeprecationWarning: using a non-integer number instead of an integer will result in an error in the future\n"
     ]
    }
   ],
   "source": [
    "iSelected = T > 200\n",
    "R_new = R[iSelected]\n",
    "T_new = T[iSelected]\n",
    "\n",
    "print (len(R_new))\n",
    "\n",
    "iSelected = T_new < 2000\n",
    "R_new = R_new[iSelected]\n",
    "T_new = T_new[iSelected]\n",
    "\n",
    "print (len(R_new))\n",
    "\n",
    "iSelected = R_new > 300\n",
    "R_new = R_new[iSelected]\n",
    "T_new = T_new[iSelected]\n",
    "\n",
    "# iSelected = R_new < 500\n",
    "# R_new = R_new[iSelected]\n",
    "# T_new = T_new[iSelected]\n",
    "\n",
    "print (len(R_new))\n",
    "\n",
    "markup_y = [data[i] for i in markup]"
   ]
  },
  {
   "cell_type": "code",
   "execution_count": 434,
   "metadata": {
    "collapsed": false
   },
   "outputs": [
    {
     "data": {
      "text/plain": [
       "[<matplotlib.lines.Line2D at 0x7f65300d9f60>]"
      ]
     },
     "execution_count": 434,
     "metadata": {},
     "output_type": "execute_result"
    },
    {
     "data": {
      "image/png": "[encoded data removed]",
      "text/plain": [
       "<matplotlib.figure.Figure at 0x7f65301127f0>"
      ]
     },
     "metadata": {},
     "output_type": "display_data"
    }
   ],
   "source": [
    "plt.plot(data[170000:190000])\n"
   ]
  },
  {
   "cell_type": "code",
   "execution_count": 452,
   "metadata": {
    "collapsed": false
   },
   "outputs": [
    {
     "data": {
      "text/plain": [
       "90671"
      ]
     },
     "execution_count": 452,
     "metadata": {},
     "output_type": "execute_result"
    }
   ],
   "source": [
    "len(markup)"
   ]
  },
  {
   "cell_type": "code",
   "execution_count": 443,
   "metadata": {
    "collapsed": false
   },
   "outputs": [
    {
     "data": {
      "image/png": "[encoded data removed]",
      "text/plain": [
       "<matplotlib.figure.Figure at 0x7f653047a400>"
      ]
     },
     "metadata": {},
     "output_type": "display_data"
    },
    {
     "data": {
      "image/png": "[encoded data removed]",
      "text/plain": [
       "<matplotlib.figure.Figure at 0x7f653053d0b8>"
      ]
     },
     "metadata": {},
     "output_type": "display_data"
    },
    {
     "data": {
      "text/plain": [
       "[<matplotlib.lines.Line2D at 0x7f652fde4860>]"
      ]
     },
     "execution_count": 443,
     "metadata": {},
     "output_type": "execute_result"
    },
    {
     "data": {
      "image/png": "[encoded data removed]",
      "text/plain": [
       "<matplotlib.figure.Figure at 0x7f6530080240>"
      ]
     },
     "metadata": {},
     "output_type": "display_data"
    }
   ],
   "source": [
    "b = 250\n",
    "a = 220\n",
    "plt.plot(data[170000:200000])\n",
    "plt.plot(markup[a:b]-170000, markup_y[a:b])\n",
    "plt.plot(markup[a:b]-170000, np.array(markup_y[a:b]) - np.array(R[a:b]))\n",
    "plt.show()\n",
    "plt.plot(R_new[a:b])\n",
    "plt.show()\n",
    "plt.plot(T_new[a:b])"
   ]
  },
  {
   "cell_type": "code",
   "execution_count": 445,
   "metadata": {
    "collapsed": false
   },
   "outputs": [],
   "source": [
    "new_R = []\n",
    "new_T = []\n",
    "new_R.append(R_new[0])\n",
    "new_T.append(T_new[0])\n",
    "for i, t_i in enumerate(T_new[1:]):\n",
    "    if t_i/new_T[-1] > 0.8 and t_i/new_T[-1] < 1.2:\n",
    "        new_T.append(t_i)\n",
    "        new_R.append(R_new[i+1])\n",
    "        \n",
    "new_R = np.array(new_R)\n",
    "new_T = np.array(new_T)\n",
    "dT = new_T[1:] - new_T[:-1]\n",
    "dR = new_R[1:] - new_R[:-1]"
   ]
  },
  {
   "cell_type": "code",
   "execution_count": 446,
   "metadata": {
    "collapsed": false
   },
   "outputs": [
    {
     "data": {
      "text/plain": [
       "(69933,)"
      ]
     },
     "execution_count": 446,
     "metadata": {},
     "output_type": "execute_result"
    }
   ],
   "source": [
    "dR.shape"
   ]
  },
  {
   "cell_type": "code",
   "execution_count": 450,
   "metadata": {
    "collapsed": false
   },
   "outputs": [
    {
     "data": {
      "text/plain": [
       "[<matplotlib.lines.Line2D at 0x7f652faae3c8>]"
      ]
     },
     "execution_count": 450,
     "metadata": {},
     "output_type": "execute_result"
    },
    {
     "data": {
      "image/png": "[encoded data removed]",
      "text/plain": [
       "<matplotlib.figure.Figure at 0x7f65300c03c8>"
      ]
     },
     "metadata": {},
     "output_type": "display_data"
    }
   ],
   "source": [
    "plt.plot (dR[:400])\n"
   ]
  },
  {
   "cell_type": "code",
   "execution_count": 451,
   "metadata": {
    "collapsed": false
   },
   "outputs": [
    {
     "data": {
      "text/plain": [
       "[<matplotlib.lines.Line2D at 0x7f652fa0dac8>]"
      ]
     },
     "execution_count": 451,
     "metadata": {},
     "output_type": "execute_result"
    },
    {
     "data": {
      "image/png": "[encoded data removed]",
      "text/plain": [
       "<matplotlib.figure.Figure at 0x7f652fafb358>"
      ]
     },
     "metadata": {},
     "output_type": "display_data"
    }
   ],
   "source": [
    "plt.plot (dT[:400])\n"
   ]
  },
  {
   "cell_type": "code",
   "execution_count": 6,
   "metadata": {
    "collapsed": false,
    "scrolled": true
   },
   "outputs": [
    {
     "name": "stdout",
     "output_type": "stream",
     "text": [
      "0 exp time 0\n",
      "1 exp time 586\n",
      "2 exp time 1167\n",
      "3 exp time 1747\n",
      "4 exp time 2329\n",
      "5 exp time 2909\n",
      "6 exp time 3490\n",
      "7 exp time 4071\n",
      "8 exp time 4653\n",
      "9 exp time 5234\n",
      "10 exp time 5815\n",
      "11 exp time 6396\n",
      "12 exp time 6978\n",
      "13 exp time 7560\n",
      "14 exp time 8142\n",
      "15 exp time 8723\n",
      "16 exp time 9303\n",
      "17 exp time 9885\n",
      "18 exp time 10467\n",
      "19 exp time 11049\n",
      "20 exp time 11630\n",
      "21 exp time 12211\n",
      "22 exp time 12793\n",
      "23 exp time 13373\n",
      "24 exp time 13954\n",
      "25 exp time 14535\n",
      "26 exp time 15117\n",
      "27 exp time 15699\n",
      "28 exp time 16280\n",
      "29 exp time 16861\n",
      "30 exp time 17442\n",
      "31 exp time 18023\n",
      "32 exp time 18604\n",
      "33 exp time 19185\n",
      "34 exp time 19767\n",
      "35 exp time 20347\n",
      "36 exp time 20929\n",
      "37 exp time 21509\n",
      "38 exp time 22092\n",
      "39 exp time 22672\n",
      "40 exp time 23253\n",
      "41 exp time 23835\n",
      "42 exp time 24416\n",
      "43 exp time 24998\n",
      "44 exp time 25579\n",
      "45 exp time 26160\n",
      "46 exp time 26741\n",
      "47 exp time 27323\n",
      "48 exp time 27903\n",
      "49 exp time 28485\n",
      "50 exp time 29065\n",
      "51 exp time 29645\n",
      "52 exp time 30226\n",
      "53 exp time 30808\n",
      "54 exp time 31390\n",
      "55 exp time 31972\n",
      "56 exp time 32552\n",
      "57 exp time 33132\n",
      "58 exp time 33715\n",
      "59 exp time 34295\n",
      "60 exp time 34877\n",
      "61 exp time 35458\n",
      "62 exp time 36039\n",
      "63 exp time 36621\n",
      "64 exp time 37201\n",
      "65 exp time 37781\n",
      "66 exp time 38363\n",
      "67 exp time 38945\n",
      "68 exp time 39525\n",
      "69 exp time 40106\n",
      "70 exp time 40687\n",
      "71 exp time 41268\n",
      "72 exp time 41850\n",
      "73 exp time 42430\n",
      "74 exp time 43012\n",
      "75 exp time 43594\n",
      "76 exp time 44176\n",
      "77 exp time 44757\n",
      "78 exp time 45338\n",
      "79 exp time 45918\n",
      "80 exp time 46500\n",
      "81 exp time 47082\n",
      "82 exp time 47663\n",
      "83 exp time 48244\n",
      "84 exp time 48825\n",
      "85 exp time 49405\n",
      "86 exp time 49985\n",
      "87 exp time 50567\n",
      "88 exp time 51149\n",
      "89 exp time 51730\n",
      "90 exp time 52310\n",
      "91 exp time 52892\n",
      "92 exp time 53473\n",
      "93 exp time 54055\n",
      "94 exp time 54637\n",
      "95 exp time 55219\n",
      "96 exp time 55799\n",
      "97 exp time 56381\n",
      "98 exp time 56962\n",
      "99 exp time 57544\n",
      "100 exp time 58126\n",
      "101 exp time 58708\n",
      "102 exp time 59288\n",
      "103 exp time 59870\n",
      "104 exp time 60451\n",
      "105 exp time 61032\n",
      "106 exp time 61614\n",
      "107 exp time 62195\n",
      "108 exp time 62777\n",
      "109 exp time 63357\n",
      "110 exp time 63937\n",
      "111 exp time 64519\n",
      "112 exp time 65099\n",
      "113 exp time 65681\n",
      "114 exp time 66262\n",
      "115 exp time 66844\n",
      "116 exp time 67424\n",
      "117 exp time 68004\n",
      "118 exp time 68585\n",
      "119 exp time 69166\n",
      "120 exp time 69747\n",
      "121 exp time 70329\n",
      "122 exp time 70911\n",
      "123 exp time 71492\n",
      "124 exp time 72073\n",
      "125 exp time 72653\n",
      "126 exp time 73235\n",
      "127 exp time 73815\n",
      "128 exp time 74395\n",
      "129 exp time 74977\n",
      "130 exp time 75559\n",
      "131 exp time 76140\n",
      "132 exp time 76721\n",
      "133 exp time 77303\n",
      "134 exp time 77884\n",
      "135 exp time 78464\n",
      "136 exp time 79046\n",
      "137 exp time 79628\n",
      "138 exp time 80210\n",
      "139 exp time 80791\n",
      "140 exp time 81373\n",
      "141 exp time 81955\n",
      "142 exp time 82536\n",
      "143 exp time 83118\n",
      "144 exp time 83700\n",
      "145 exp time 84282\n",
      "146 exp time 84862\n",
      "147 exp time 85442\n",
      "148 exp time 86024\n",
      "149 exp time 86606\n",
      "150 exp time 87188\n",
      "151 exp time 87770\n",
      "152 exp time 88350\n",
      "153 exp time 88932\n",
      "154 exp time 89514\n",
      "155 exp time 90096\n",
      "156 exp time 90678\n",
      "157 exp time 91260\n",
      "158 exp time 91841\n",
      "159 exp time 92422\n",
      "160 exp time 93004\n",
      "161 exp time 93585\n",
      "162 exp time 94166\n",
      "163 exp time 94746\n",
      "164 exp time 95328\n",
      "165 exp time 95910\n",
      "166 exp time 96490\n",
      "167 exp time 97072\n",
      "168 exp time 97652\n",
      "169 exp time 98233\n",
      "170 exp time 98813\n",
      "171 exp time 99395\n",
      "172 exp time 99975\n",
      "173 exp time 100555\n",
      "174 exp time 101137\n",
      "175 exp time 101719\n",
      "176 exp time 102301\n",
      "177 exp time 102882\n",
      "178 exp time 103464\n",
      "179 exp time 104047\n",
      "180 exp time 104628\n",
      "181 exp time 105208\n",
      "182 exp time 105789\n",
      "183 exp time 106371\n",
      "184 exp time 106952\n",
      "185 exp time 107534\n",
      "186 exp time 108114\n",
      "187 exp time 108696\n",
      "188 exp time 109278\n",
      "189 exp time 109860\n",
      "190 exp time 110441\n",
      "191 exp time 111021\n",
      "192 exp time 111603\n",
      "193 exp time 112183\n",
      "194 exp time 112765\n",
      "195 exp time 113347\n",
      "196 exp time 113928\n",
      "197 exp time 114508\n",
      "198 exp time 115090\n",
      "199 exp time 115670\n",
      "time 116252\n"
     ]
    }
   ],
   "source": [
    "#перемешиваем R-T интервалы внутри сигнала одного больного для всех больных и считаем характеристики. \n",
    "# Тест неслучайности триграммы в последовательности кардиоциклов из статьи воронцова\n",
    "\n",
    "start = time.clock()\n",
    "codegramm = {}\n",
    "F_w = []\n",
    "B_w = []\n",
    "for i in range(200):\n",
    "    print (i, 'exp', 'time', round(time.clock() - start))\n",
    "    X = []\n",
    "    for file_i, file_ in enumerate(files[:]): #800 signals ~ 10 min\n",
    "        if os.path.isfile(path_to_data + \"R-T_code/\" + str(file_) + '.npy'):\n",
    "#             print (file_i, file_)\n",
    "\n",
    "            data = np.load(path_to_data + 'R-T_code/' + str(file_) + '.npy')\n",
    "            np.random.shuffle(data.T)\n",
    "            fi = 1.0/(len(data) - 3)\n",
    "\n",
    "            R = data[0]\n",
    "            T = data[1]\n",
    "\n",
    "            a = np.arctan(R/T)\n",
    "            dT = T[1:] - T[:-1]\n",
    "            dR = R[1:] - R[:-1]\n",
    "            da = a[1:] - a[:-1]\n",
    "            codegramm_i = []\n",
    "            for i, dt in enumerate(dT):\n",
    "                if R[i] <= 0 or R[i+1] <= 0:\n",
    "                    print ('RRRRRRRrR', i, R[i], markup[i], T[i])\n",
    "                    continue\n",
    "                elif dt > 0 and dR[i] > 0 and da[i] > 0:\n",
    "                    codegramm_i.append('A')\n",
    "                elif dt <= 0 and dR[i] <= 0 and da[i] > 0:\n",
    "                    codegramm_i.append('B')\n",
    "                elif dt <=0 and dR[i] > 0 and da[i] > 0:\n",
    "                    codegramm_i.append('C')\n",
    "                elif dt > 0 and dR[i] <= 0 and da[i] <= 0:\n",
    "                    codegramm_i.append('D')\n",
    "                elif dt > 0 and dR[i] > 0 and da[i] <= 0:\n",
    "                    codegramm_i.append('E')\n",
    "                elif dt <= 0 and dR[i] <= 0 and da[i] <= 0:\n",
    "                    codegramm_i.append('F')\n",
    "                elif T[i] ==  0 or T[i+1] == 0:\n",
    "                    continue\n",
    "                else:\n",
    "                    print ('ups...', i, 'dt', dt, 'dR', dR[i], 'da', da[i])\n",
    "\n",
    "            ngramm = CountVectorizer(analyzer='char', ngram_range=(3, 3))\n",
    "            analyze = ngramm.build_analyzer()\n",
    "            words = analyze(''.join(codegramm_i))\n",
    "\n",
    "            X_i = np.zeros(6**3)\n",
    "            for i in words:\n",
    "                X_i[trigram2num(i)] += 1\n",
    "\n",
    "            X_i = X_i/sum(X_i)\n",
    "            X.append(X_i)\n",
    "        \n",
    "    X = np.array(X)\n",
    "    F_w_i = np.mean(X, axis = 0)\n",
    "    F_w.append(F_w_i)\n",
    "    X[X < fi] = 0\n",
    "    B_w_i = np.mean(X, axis = 0)\n",
    "    B_w.append(B_w_i)\n",
    "    \n",
    "F_w = np.array(F_w)\n",
    "B_W = np.array(B_w)   \n",
    "       \n",
    "print ('time', round(time.clock() - start))"
   ]
  },
  {
   "cell_type": "code",
   "execution_count": 7,
   "metadata": {
    "collapsed": false
   },
   "outputs": [],
   "source": [
    "# считает характеристики по исходным сигналам\n",
    "\n",
    "X = []\n",
    "for file_i, file_ in enumerate(files[:]):\n",
    "    if os.path.isfile(path_to_data + \"R-T_code/\" + str(file_) + '.npy'):\n",
    "#             print (file_i, file_)\n",
    "\n",
    "        data = np.load(path_to_data + 'R-T_code/' + str(file_) + '.npy')\n",
    "        fi = 1.0/(len(data) - 3)\n",
    "\n",
    "        R = data[0]\n",
    "        T = data[1]\n",
    "\n",
    "        a = np.arctan(R/T)\n",
    "        dT = T[1:] - T[:-1]\n",
    "        dR = R[1:] - R[:-1]\n",
    "        da = a[1:] - a[:-1]\n",
    "        codegramm_i = []\n",
    "        for i, dt in enumerate(dT):\n",
    "            if R[i] <= 0 or R[i+1] <= 0:\n",
    "                print ('RRRRRRRrR', i, R[i], markup[i], T[i])\n",
    "                continue\n",
    "            elif dt > 0 and dR[i] > 0 and da[i] > 0:\n",
    "                codegramm_i.append('A')\n",
    "            elif dt <= 0 and dR[i] <= 0 and da[i] > 0:\n",
    "                codegramm_i.append('B')\n",
    "            elif dt <=0 and dR[i] > 0 and da[i] > 0:\n",
    "                codegramm_i.append('C')\n",
    "            elif dt > 0 and dR[i] <= 0 and da[i] <= 0:\n",
    "                codegramm_i.append('D')\n",
    "            elif dt > 0 and dR[i] > 0 and da[i] <= 0:\n",
    "                codegramm_i.append('E')\n",
    "            elif dt <= 0 and dR[i] <= 0 and da[i] <= 0:\n",
    "                codegramm_i.append('F')\n",
    "            elif T[i] ==  0 or T[i+1] == 0:\n",
    "                continue\n",
    "            else:\n",
    "                print ('ups...', i, 'dt', dt, 'dR', dR[i], 'da', da[i])\n",
    "\n",
    "        ngramm = CountVectorizer(analyzer='char', ngram_range=(3, 3))\n",
    "        analyze = ngramm.build_analyzer()\n",
    "        words = analyze(''.join(codegramm_i))\n",
    "\n",
    "        X_i = np.zeros(6**3)\n",
    "        for i in words:\n",
    "            X_i[trigram2num(i)] += 1\n",
    "\n",
    "        X_i = X_i/sum(X_i)\n",
    "        X.append(X_i)\n",
    "\n",
    "X = np.array(X)\n",
    "F_w_orig = np.mean(X, axis = 0)\n",
    "X[X < fi] = 0\n",
    "B_w_orig = np.mean(X, axis = 0)\n"
   ]
  },
  {
   "cell_type": "code",
   "execution_count": 8,
   "metadata": {
    "collapsed": false
   },
   "outputs": [
    {
     "data": {
      "text/plain": [
       "array([ True,  True,  True,  True,  True,  True,  True,  True,  True,\n",
       "        True,  True,  True,  True,  True,  True,  True,  True,  True,\n",
       "        True,  True,  True,  True,  True,  True,  True,  True,  True,\n",
       "        True,  True,  True,  True,  True,  True,  True,  True,  True,\n",
       "        True,  True,  True,  True,  True,  True,  True,  True,  True,\n",
       "        True,  True,  True,  True,  True,  True,  True,  True,  True,\n",
       "        True,  True,  True,  True,  True,  True,  True,  True,  True,\n",
       "        True,  True,  True,  True,  True,  True,  True,  True,  True,\n",
       "        True,  True,  True,  True,  True,  True,  True,  True,  True,\n",
       "        True,  True,  True,  True,  True,  True,  True,  True,  True,\n",
       "        True,  True,  True,  True,  True,  True,  True,  True,  True,\n",
       "        True,  True,  True,  True,  True,  True,  True,  True,  True,\n",
       "        True,  True,  True,  True,  True,  True,  True,  True,  True,\n",
       "        True,  True, False,  True,  True,  True,  True,  True,  True,\n",
       "        True,  True,  True,  True,  True,  True,  True,  True,  True,\n",
       "        True,  True,  True,  True,  True,  True,  True,  True,  True,\n",
       "        True,  True,  True,  True,  True, False,  True,  True,  True,\n",
       "        True,  True,  True,  True,  True,  True,  True,  True,  True,\n",
       "        True,  True,  True,  True,  True,  True,  True,  True,  True,\n",
       "        True,  True,  True,  True,  True,  True,  True,  True,  True,\n",
       "        True,  True,  True,  True,  True,  True,  True,  True,  True,\n",
       "        True,  True,  True,  True,  True,  True,  True,  True,  True,\n",
       "        True,  True,  True,  True,  True,  True,  True,  True,  True,\n",
       "        True,  True,  True,  True,  True,  True,  True,  True,  True], dtype=bool)"
      ]
     },
     "execution_count": 8,
     "metadata": {},
     "output_type": "execute_result"
    }
   ],
   "source": [
    "#смотрим, какие триграммы несут информацию\n",
    "\n",
    "res1 = np.vstack((B_w_orig - np.min(B_w, axis = 0) < 0, np.max(B_w, axis = 0) - B_w_orig < 0)).T.any(axis=1)\n",
    "\n",
    "res2 = np.vstack((F_w_orig - np.min(F_w, axis = 0) < 0, np.max(F_w, axis = 0) - F_w_orig < 0)).T.any(axis=1)\n",
    "\n",
    "DF = (2*F_w_orig - np.min(F_w, axis = 0) - np.max(F_w, axis = 0))/(np.max(F_w, axis = 0) - np.min(F_w, axis = 0))\n",
    "res3 = np.vstack((DF > 1, DF < -1)).T.any(axis=1)\n",
    "\n",
    "DB = (2*B_w_orig - np.min(B_w, axis = 0) - np.max(B_w, axis = 0))/(np.max(B_w, axis = 0) - np.min(B_w, axis = 0))\n",
    "res4 = np.vstack((DB > 1, DB < -1)).T.any(axis=1)\n",
    "\n",
    "res_all = np.vstack((res1, res2, res3, res4)).T.any(axis=1)\n",
    "res_all"
   ]
  },
  {
   "cell_type": "code",
   "execution_count": 9,
   "metadata": {
    "collapsed": false
   },
   "outputs": [
    {
     "data": {
      "text/plain": [
       "array([119, 149])"
      ]
     },
     "execution_count": 9,
     "metadata": {},
     "output_type": "execute_result"
    }
   ],
   "source": [
    "#trigramm не содержащие информации [  7, 125, 148, 151, 162, 202] по тесту 1\n",
    "#[119, 149]\n",
    "\n",
    "np.array(range(2016))[~res_all]"
   ]
  },
  {
   "cell_type": "code",
   "execution_count": 10,
   "metadata": {
    "collapsed": false
   },
   "outputs": [],
   "source": [
    "np.save(path_to_data + 'bad_trigramm_1', res_all)"
   ]
  },
  {
   "cell_type": "markdown",
   "metadata": {},
   "source": [
    "Второй тест на информативность. выбираем случайных людей из выборки больных и здоровых. и считаем их больными."
   ]
  },
  {
   "cell_type": "code",
   "execution_count": 11,
   "metadata": {
    "collapsed": false
   },
   "outputs": [],
   "source": [
    "files = selected_pp[iSelected].GIDN.values\n"
   ]
  },
  {
   "cell_type": "code",
   "execution_count": 12,
   "metadata": {
    "collapsed": false
   },
   "outputs": [
    {
     "name": "stdout",
     "output_type": "stream",
     "text": [
      "0 exp time 0\n",
      "1 exp time 150\n",
      "2 exp time 301\n",
      "3 exp time 450\n",
      "4 exp time 601\n",
      "5 exp time 751\n",
      "6 exp time 901\n",
      "7 exp time 1051\n",
      "8 exp time 1204\n",
      "9 exp time 1356\n",
      "10 exp time 1507\n",
      "11 exp time 1659\n",
      "12 exp time 1811\n",
      "13 exp time 1962\n",
      "14 exp time 2111\n",
      "15 exp time 2260\n",
      "16 exp time 2410\n",
      "17 exp time 2561\n",
      "18 exp time 2711\n",
      "19 exp time 2860\n",
      "20 exp time 3009\n",
      "21 exp time 3159\n",
      "22 exp time 3307\n",
      "23 exp time 3456\n",
      "24 exp time 3606\n",
      "25 exp time 3755\n",
      "26 exp time 3904\n",
      "27 exp time 4055\n",
      "28 exp time 4208\n",
      "29 exp time 4357\n",
      "30 exp time 4508\n",
      "31 exp time 4657\n",
      "32 exp time 4808\n",
      "33 exp time 4959\n",
      "34 exp time 5110\n",
      "35 exp time 5261\n",
      "36 exp time 5411\n",
      "37 exp time 5560\n",
      "38 exp time 5709\n",
      "39 exp time 5861\n",
      "40 exp time 6011\n",
      "41 exp time 6162\n",
      "42 exp time 6310\n",
      "43 exp time 6459\n",
      "44 exp time 6606\n",
      "45 exp time 6758\n",
      "46 exp time 6906\n",
      "47 exp time 7056\n",
      "48 exp time 7208\n",
      "49 exp time 7359\n",
      "50 exp time 7508\n",
      "51 exp time 7660\n",
      "52 exp time 7809\n",
      "53 exp time 7960\n",
      "54 exp time 8112\n",
      "55 exp time 8261\n",
      "56 exp time 8410\n",
      "57 exp time 8558\n",
      "58 exp time 8706\n",
      "59 exp time 8856\n",
      "60 exp time 9006\n",
      "61 exp time 9156\n",
      "62 exp time 9306\n",
      "63 exp time 9458\n",
      "64 exp time 9606\n",
      "65 exp time 9756\n",
      "66 exp time 9905\n",
      "67 exp time 10057\n",
      "68 exp time 10208\n",
      "69 exp time 10357\n",
      "70 exp time 10510\n",
      "71 exp time 10662\n",
      "72 exp time 10812\n",
      "73 exp time 10962\n",
      "74 exp time 11114\n",
      "75 exp time 11265\n",
      "76 exp time 11414\n",
      "77 exp time 11564\n",
      "78 exp time 11715\n",
      "79 exp time 11865\n",
      "80 exp time 12017\n",
      "81 exp time 12167\n",
      "82 exp time 12318\n",
      "83 exp time 12471\n",
      "84 exp time 12623\n",
      "85 exp time 12775\n",
      "86 exp time 12925\n",
      "87 exp time 13077\n",
      "88 exp time 13227\n",
      "89 exp time 13376\n",
      "90 exp time 13527\n",
      "91 exp time 13679\n",
      "92 exp time 13830\n",
      "93 exp time 13984\n",
      "94 exp time 14134\n",
      "95 exp time 14285\n",
      "96 exp time 14437\n",
      "97 exp time 14588\n",
      "98 exp time 14740\n",
      "99 exp time 14890\n",
      "100 exp time 15042\n",
      "101 exp time 15194\n",
      "102 exp time 15343\n",
      "103 exp time 15493\n",
      "104 exp time 15642\n",
      "105 exp time 15791\n",
      "106 exp time 15941\n",
      "107 exp time 16093\n",
      "108 exp time 16246\n",
      "109 exp time 16395\n",
      "110 exp time 16545\n",
      "111 exp time 16696\n",
      "112 exp time 16847\n",
      "113 exp time 16997\n",
      "114 exp time 17148\n",
      "115 exp time 17300\n",
      "116 exp time 17450\n",
      "117 exp time 17601\n",
      "118 exp time 17751\n",
      "119 exp time 17900\n",
      "120 exp time 18049\n",
      "121 exp time 18200\n",
      "122 exp time 18352\n",
      "123 exp time 18505\n",
      "124 exp time 18656\n",
      "125 exp time 18807\n",
      "126 exp time 18958\n",
      "127 exp time 19108\n",
      "128 exp time 19257\n",
      "129 exp time 19408\n",
      "130 exp time 19559\n",
      "131 exp time 19709\n",
      "132 exp time 19860\n",
      "133 exp time 20011\n",
      "134 exp time 20163\n",
      "135 exp time 20317\n",
      "136 exp time 20467\n",
      "137 exp time 20618\n",
      "138 exp time 20769\n",
      "139 exp time 20921\n",
      "140 exp time 21072\n",
      "141 exp time 21222\n",
      "142 exp time 21374\n",
      "143 exp time 21527\n",
      "144 exp time 21679\n",
      "145 exp time 21833\n",
      "146 exp time 21983\n",
      "147 exp time 22134\n",
      "148 exp time 22287\n",
      "149 exp time 22436\n",
      "150 exp time 22585\n",
      "151 exp time 22736\n",
      "152 exp time 22886\n",
      "153 exp time 23038\n",
      "154 exp time 23189\n",
      "155 exp time 23340\n",
      "156 exp time 23491\n",
      "157 exp time 23641\n",
      "158 exp time 23792\n",
      "159 exp time 23943\n",
      "160 exp time 24095\n",
      "161 exp time 24247\n",
      "162 exp time 24400\n",
      "163 exp time 24553\n",
      "164 exp time 24704\n",
      "165 exp time 24854\n",
      "166 exp time 25004\n",
      "167 exp time 25156\n",
      "168 exp time 25305\n",
      "169 exp time 25456\n",
      "170 exp time 25607\n",
      "171 exp time 25759\n",
      "172 exp time 25909\n",
      "173 exp time 26059\n",
      "174 exp time 26210\n",
      "175 exp time 26361\n",
      "176 exp time 26510\n",
      "177 exp time 26661\n",
      "178 exp time 26812\n",
      "179 exp time 26962\n",
      "180 exp time 27114\n",
      "181 exp time 27266\n",
      "182 exp time 27416\n",
      "183 exp time 27565\n",
      "184 exp time 27717\n",
      "185 exp time 27868\n",
      "186 exp time 28018\n",
      "187 exp time 28171\n",
      "188 exp time 28323\n",
      "189 exp time 28474\n",
      "190 exp time 28625\n",
      "191 exp time 28775\n",
      "192 exp time 28925\n",
      "193 exp time 29077\n",
      "194 exp time 29230\n",
      "195 exp time 29381\n",
      "196 exp time 29531\n",
      "197 exp time 29682\n",
      "198 exp time 29834\n",
      "199 exp time 29986\n",
      "200 exp time 30135\n",
      "201 exp time 30287\n",
      "202 exp time 30440\n",
      "203 exp time 30589\n",
      "204 exp time 30740\n",
      "205 exp time 30890\n",
      "206 exp time 31041\n",
      "207 exp time 31190\n",
      "208 exp time 31338\n",
      "209 exp time 31490\n",
      "210 exp time 31642\n",
      "211 exp time 31792\n",
      "212 exp time 31941\n",
      "213 exp time 32091\n",
      "214 exp time 32244\n",
      "215 exp time 32396\n",
      "216 exp time 32548\n",
      "217 exp time 32697\n",
      "218 exp time 32848\n",
      "219 exp time 32999\n",
      "220 exp time 33147\n",
      "221 exp time 33298\n",
      "222 exp time 33447\n",
      "223 exp time 33595\n",
      "224 exp time 33744\n",
      "225 exp time 33895\n",
      "226 exp time 34046\n",
      "227 exp time 34196\n",
      "228 exp time 34347\n",
      "229 exp time 34498\n",
      "230 exp time 34649\n",
      "231 exp time 34801\n",
      "232 exp time 34951\n",
      "233 exp time 35102\n",
      "234 exp time 35252\n",
      "235 exp time 35403\n",
      "236 exp time 35552\n",
      "237 exp time 35700\n",
      "238 exp time 35850\n",
      "239 exp time 35999\n",
      "240 exp time 36149\n",
      "241 exp time 36299\n",
      "242 exp time 36451\n",
      "243 exp time 36601\n",
      "244 exp time 36751\n",
      "245 exp time 36899\n",
      "246 exp time 37050\n",
      "247 exp time 37200\n",
      "248 exp time 37351\n",
      "249 exp time 37502\n",
      "250 exp time 37653\n",
      "251 exp time 37803\n",
      "252 exp time 37956\n",
      "253 exp time 38104\n",
      "254 exp time 38257\n",
      "255 exp time 38405\n",
      "256 exp time 38556\n",
      "257 exp time 38707\n",
      "258 exp time 38855\n",
      "259 exp time 39004\n",
      "260 exp time 39152\n",
      "261 exp time 39304\n",
      "262 exp time 39454\n",
      "263 exp time 39603\n",
      "264 exp time 39754\n",
      "265 exp time 39905\n",
      "266 exp time 40053\n",
      "267 exp time 40202\n",
      "268 exp time 40352\n",
      "269 exp time 40501\n",
      "270 exp time 40651\n",
      "271 exp time 40802\n",
      "272 exp time 40953\n",
      "273 exp time 41104\n",
      "274 exp time 41254\n",
      "275 exp time 41406\n",
      "276 exp time 41557\n",
      "277 exp time 41708\n",
      "278 exp time 41859\n",
      "279 exp time 42011\n",
      "280 exp time 42162\n",
      "281 exp time 42310\n",
      "282 exp time 42460\n",
      "283 exp time 42609\n",
      "284 exp time 42759\n",
      "285 exp time 42910\n",
      "286 exp time 43063\n",
      "287 exp time 43213\n",
      "288 exp time 43364\n",
      "289 exp time 43513\n",
      "290 exp time 43662\n",
      "291 exp time 43811\n",
      "292 exp time 43962\n",
      "293 exp time 44111\n",
      "294 exp time 44262\n",
      "295 exp time 44412\n",
      "296 exp time 44561\n",
      "297 exp time 44711\n",
      "298 exp time 44862\n",
      "299 exp time 45014\n",
      "300 exp time 45164\n",
      "301 exp time 45315\n",
      "302 exp time 45464\n",
      "303 exp time 45613\n",
      "304 exp time 45763\n",
      "305 exp time 45915\n",
      "306 exp time 46066\n",
      "307 exp time 46216\n",
      "308 exp time 46365\n",
      "309 exp time 46516\n",
      "310 exp time 46667\n",
      "311 exp time 46818\n",
      "312 exp time 46968\n",
      "313 exp time 47118\n",
      "314 exp time 47268\n",
      "315 exp time 47419\n",
      "316 exp time 47571\n",
      "317 exp time 47722\n",
      "318 exp time 47873\n",
      "319 exp time 48024\n",
      "320 exp time 48174\n",
      "321 exp time 48324\n",
      "322 exp time 48476\n",
      "323 exp time 48629\n",
      "324 exp time 48780\n",
      "325 exp time 48930\n",
      "326 exp time 49082\n",
      "327 exp time 49233\n",
      "328 exp time 49382\n",
      "329 exp time 49532\n",
      "330 exp time 49685\n",
      "331 exp time 49836\n",
      "332 exp time 49987\n",
      "333 exp time 50135\n",
      "334 exp time 50283\n",
      "335 exp time 50435\n",
      "336 exp time 50587\n",
      "337 exp time 50736\n",
      "338 exp time 50887\n",
      "339 exp time 51037\n",
      "340 exp time 51187\n",
      "341 exp time 51337\n",
      "342 exp time 51488\n",
      "343 exp time 51640\n",
      "344 exp time 51791\n",
      "345 exp time 51938\n",
      "346 exp time 52089\n",
      "347 exp time 52240\n",
      "348 exp time 52390\n",
      "349 exp time 52541\n",
      "350 exp time 52691\n",
      "351 exp time 52840\n",
      "352 exp time 52987\n",
      "353 exp time 53136\n",
      "354 exp time 53288\n",
      "355 exp time 53438\n",
      "356 exp time 53590\n",
      "357 exp time 53741\n",
      "358 exp time 53893\n",
      "359 exp time 54041\n",
      "360 exp time 54191\n",
      "361 exp time 54342\n",
      "362 exp time 54493\n",
      "363 exp time 54645\n",
      "364 exp time 54794\n",
      "365 exp time 54945\n",
      "366 exp time 55096\n",
      "367 exp time 55247\n",
      "368 exp time 55396\n",
      "369 exp time 55547\n",
      "370 exp time 55697\n",
      "371 exp time 55846\n",
      "372 exp time 55997\n",
      "373 exp time 56148\n",
      "374 exp time 56300\n",
      "375 exp time 56452\n",
      "376 exp time 56602\n",
      "377 exp time 56755\n",
      "378 exp time 56906\n",
      "379 exp time 57056\n",
      "380 exp time 57208\n",
      "381 exp time 57360\n",
      "382 exp time 57512\n",
      "383 exp time 57665\n",
      "384 exp time 57815\n",
      "385 exp time 57966\n",
      "386 exp time 58116\n",
      "387 exp time 58267\n",
      "388 exp time 58416\n",
      "389 exp time 58567\n",
      "390 exp time 58717\n",
      "391 exp time 58866\n",
      "392 exp time 59019\n",
      "393 exp time 59171\n",
      "394 exp time 59322\n",
      "395 exp time 59472\n",
      "396 exp time 59624\n",
      "397 exp time 59774\n",
      "398 exp time 59924\n",
      "399 exp time 60075\n",
      "time 60226\n"
     ]
    }
   ],
   "source": [
    "# Тест неслучайности триграммы в последовательности кардиоциклов из статьи воронцова\n",
    "\n",
    "start = time.clock()\n",
    "codegramm = {}\n",
    "F_w = []\n",
    "B_w = []\n",
    "for i in range(400):\n",
    "    print (i, 'exp', 'time', round(time.clock() - start))\n",
    "    files_i = np.random.choice(files, 900)\n",
    "    X = []\n",
    "    for file_i, file_ in enumerate(files_i[:]): #800 signals ~ 10 min\n",
    "        if os.path.isfile(path_to_data + \"code_string/\" + str(file_) + '.txt'):\n",
    "#             print (file_i, file_)\n",
    "\n",
    "            ngramm = CountVectorizer(input = 'file', analyzer='char', ngram_range=(3, 3))\n",
    "            analyze = ngramm.build_analyzer()\n",
    "            with open(path_to_data + 'code_string/' + str(file_) + '.txt', \"r\") as o:\n",
    "                words = analyze(o)\n",
    "                \n",
    "            fi = 1.0/(len(words) - 1)\n",
    "\n",
    "            X_i = np.zeros(6**3)\n",
    "            for i in words:\n",
    "                X_i[trigram2num(i)] += 1\n",
    "\n",
    "            X_i = X_i/sum(X_i)\n",
    "            X.append(X_i)\n",
    "        \n",
    "    X = np.array(X)\n",
    "    F_w_i = np.mean(X, axis = 0)\n",
    "    F_w.append(F_w_i)\n",
    "    X[X < fi] = 0\n",
    "    B_w_i = np.mean(X, axis = 0)\n",
    "    B_w.append(B_w_i)\n",
    "    \n",
    "F_w = np.array(F_w)\n",
    "B_W = np.array(B_w)   \n",
    "       \n",
    "print ('time', round(time.clock() - start))"
   ]
  },
  {
   "cell_type": "code",
   "execution_count": 19,
   "metadata": {
    "collapsed": false
   },
   "outputs": [
    {
     "data": {
      "text/plain": [
       "837"
      ]
     },
     "execution_count": 19,
     "metadata": {},
     "output_type": "execute_result"
    }
   ],
   "source": [
    "\n",
    "iSelected = np.vstack((selected_pp.M8_4_19 == 'Have now', selected_pp.M8_4_19 == 'Have had')).any(axis = 0)\n",
    "files = selected_pp[iSelected].GIDN.values\n",
    "len(files)"
   ]
  },
  {
   "cell_type": "code",
   "execution_count": 21,
   "metadata": {
    "collapsed": false
   },
   "outputs": [],
   "source": [
    "# считает характеристики по исходным сигналам\n",
    "\n",
    "X = []\n",
    "for file_i, file_ in enumerate(files):\n",
    "    if os.path.isfile(path_to_data + \"code_string/\" + str(file_) + '.txt'):\n",
    "#             print (file_i, file_)\n",
    "\n",
    "        ngramm = CountVectorizer(input = 'file', analyzer='char', ngram_range=(3, 3))\n",
    "        analyze = ngramm.build_analyzer()\n",
    "        with open(path_to_data + 'code_string/' + str(file_) + '.txt', \"r\") as o:\n",
    "            words = analyze(o)\n",
    "\n",
    "        fi = 1.0/(len(words) - 1)\n",
    "\n",
    "        X_i = np.zeros(6**3)\n",
    "        for i in words:\n",
    "            X_i[trigram2num(i)] += 1\n",
    "\n",
    "        X_i = X_i/sum(X_i)\n",
    "        X.append(X_i)\n",
    "\n",
    "X = np.array(X)\n",
    "F_w_orig = np.mean(X, axis = 0)\n",
    "X[X < fi] = 0\n",
    "B_w_orig = np.mean(X, axis = 0)\n"
   ]
  },
  {
   "cell_type": "code",
   "execution_count": 22,
   "metadata": {
    "collapsed": false
   },
   "outputs": [
    {
     "data": {
      "text/plain": [
       "array([False, False, False, False, False, False, False, False, False,\n",
       "       False, False, False, False, False, False, False, False, False,\n",
       "       False, False, False, False, False, False, False, False, False,\n",
       "       False, False, False, False, False, False, False, False, False,\n",
       "       False, False, False, False, False, False, False, False, False,\n",
       "       False, False, False, False, False, False, False, False, False,\n",
       "       False, False, False, False, False, False, False, False, False,\n",
       "       False, False, False, False, False, False, False, False, False,\n",
       "       False, False, False, False, False, False, False, False, False,\n",
       "       False, False, False, False, False, False, False, False, False,\n",
       "       False, False, False, False, False, False, False, False, False,\n",
       "       False, False, False, False, False, False, False, False, False,\n",
       "       False, False, False, False, False, False, False, False, False,\n",
       "       False, False, False, False, False, False, False, False, False,\n",
       "       False, False, False, False, False, False, False, False, False,\n",
       "       False, False, False, False, False, False, False, False, False,\n",
       "       False, False, False, False, False, False, False, False, False,\n",
       "       False, False, False, False, False, False, False, False, False,\n",
       "       False, False, False, False, False, False, False, False, False,\n",
       "       False, False, False, False, False, False, False, False, False,\n",
       "       False, False, False, False, False, False, False, False, False,\n",
       "       False, False, False, False, False, False, False, False, False,\n",
       "       False, False, False, False, False, False, False, False, False,\n",
       "       False, False, False, False, False, False, False, False, False], dtype=bool)"
      ]
     },
     "execution_count": 22,
     "metadata": {},
     "output_type": "execute_result"
    }
   ],
   "source": [
    "#смотрим, какие триграммы несут информацию\n",
    "\n",
    "res1 = np.vstack((B_w_orig - np.min(B_w, axis = 0) < 0, np.max(B_w, axis = 0) - B_w_orig < 0)).T.any(axis=1)\n",
    "\n",
    "res2 = np.vstack((F_w_orig - np.min(F_w, axis = 0) < 0, np.max(F_w, axis = 0) - F_w_orig < 0)).T.any(axis=1)\n",
    "\n",
    "DF = (2*F_w_orig - np.min(F_w, axis = 0) - np.max(F_w, axis = 0))/(np.max(F_w, axis = 0) - np.min(F_w, axis = 0))\n",
    "res3 = np.vstack((DF > 1, DF < -1)).T.any(axis=1)\n",
    "\n",
    "DB = (2*B_w_orig - np.min(B_w, axis = 0) - np.max(B_w, axis = 0))/(np.max(B_w, axis = 0) - np.min(B_w, axis = 0))\n",
    "res4 = np.vstack((DB > 1, DB < -1)).T.any(axis=1)\n",
    "\n",
    "res_all = np.vstack((res1, res2, res3, res4)).T.any(axis=1)\n",
    "res_all"
   ]
  },
  {
   "cell_type": "code",
   "execution_count": 23,
   "metadata": {
    "collapsed": false
   },
   "outputs": [
    {
     "data": {
      "text/plain": [
       "array([  0,   1,   2,   3,   4,   5,   6,   7,   8,   9,  10,  11,  12,\n",
       "        13,  14,  15,  16,  17,  18,  19,  20,  21,  22,  23,  24,  25,\n",
       "        26,  27,  28,  29,  30,  31,  32,  33,  34,  35,  36,  37,  38,\n",
       "        39,  40,  41,  42,  43,  44,  45,  46,  47,  48,  49,  50,  51,\n",
       "        52,  53,  54,  55,  56,  57,  58,  59,  60,  61,  62,  63,  64,\n",
       "        65,  66,  67,  68,  69,  70,  71,  72,  73,  74,  75,  76,  77,\n",
       "        78,  79,  80,  81,  82,  83,  84,  85,  86,  87,  88,  89,  90,\n",
       "        91,  92,  93,  94,  95,  96,  97,  98,  99, 100, 101, 102, 103,\n",
       "       104, 105, 106, 107, 108, 109, 110, 111, 112, 113, 114, 115, 116,\n",
       "       117, 118, 119, 120, 121, 122, 123, 124, 125, 126, 127, 128, 129,\n",
       "       130, 131, 132, 133, 134, 135, 136, 137, 138, 139, 140, 141, 142,\n",
       "       143, 144, 145, 146, 147, 148, 149, 150, 151, 152, 153, 154, 155,\n",
       "       156, 157, 158, 159, 160, 161, 162, 163, 164, 165, 166, 167, 168,\n",
       "       169, 170, 171, 172, 173, 174, 175, 176, 177, 178, 179, 180, 181,\n",
       "       182, 183, 184, 185, 186, 187, 188, 189, 190, 191, 192, 193, 194,\n",
       "       195, 196, 197, 198, 199, 200, 201, 202, 203, 204, 205, 206, 207,\n",
       "       208, 209, 210, 211, 212, 213, 214, 215])"
      ]
     },
     "execution_count": 23,
     "metadata": {},
     "output_type": "execute_result"
    }
   ],
   "source": [
    "#trigramm не содержащие информации  по тесту 2 [  0,  14,  17,  18,  27,  32,  33,  44,  50,  51,  66,  69,  73,\n",
    "#         86,  89,  91,  99, 106, 107, 111, 123, 129, 143, 144, 148, 152,\n",
    "#        155, 156, 161, 172, 173, 177, 189, 190, 191, 201, 202, 212, 213\n",
    "\n",
    "np.array(range(2016))[~res_all]"
   ]
  },
  {
   "cell_type": "code",
   "execution_count": 16,
   "metadata": {
    "collapsed": true
   },
   "outputs": [],
   "source": [
    "np.save(path_to_data + 'bad_trigramm_2', res_all)"
   ]
  },
  {
   "cell_type": "code",
   "execution_count": 24,
   "metadata": {
    "collapsed": false
   },
   "outputs": [
    {
     "data": {
      "text/plain": [
       "array([False, False, False, False, False, False, False, False, False,\n",
       "       False, False, False, False, False, False, False, False, False,\n",
       "       False, False, False, False, False, False, False, False, False,\n",
       "       False, False, False, False, False, False, False, False, False,\n",
       "       False, False, False, False, False, False, False, False, False,\n",
       "       False, False, False, False, False, False, False, False, False,\n",
       "       False, False, False, False, False, False, False, False, False,\n",
       "       False, False, False, False, False, False, False, False, False,\n",
       "       False, False, False, False, False, False, False, False, False,\n",
       "       False, False, False, False, False, False, False, False, False,\n",
       "       False, False, False, False, False, False, False, False, False,\n",
       "       False, False, False, False, False, False, False, False, False,\n",
       "       False, False, False, False, False, False, False, False, False,\n",
       "       False, False, False, False, False, False, False, False, False,\n",
       "       False, False, False, False, False, False, False, False, False,\n",
       "       False, False, False, False, False, False, False, False, False,\n",
       "       False, False, False, False, False, False, False, False, False,\n",
       "       False, False, False, False, False, False, False, False, False,\n",
       "       False, False, False, False, False, False, False, False, False,\n",
       "       False, False, False, False, False, False, False, False, False,\n",
       "       False, False, False, False, False, False, False, False, False,\n",
       "       False, False, False, False, False, False, False, False, False,\n",
       "       False, False, False, False, False, False, False, False, False,\n",
       "       False, False, False, False, False, False, False, False, False], dtype=bool)"
      ]
     },
     "execution_count": 24,
     "metadata": {},
     "output_type": "execute_result"
    }
   ],
   "source": [
    "res2"
   ]
  },
  {
   "cell_type": "code",
   "execution_count": 44,
   "metadata": {
    "collapsed": false
   },
   "outputs": [
    {
     "data": {
      "text/plain": [
       "array([ 0.08626553,  0.07188518,  0.07237216,  0.07030566,  0.06969238,\n",
       "        0.07011097,  0.06095717,  0.08421062,  0.04147356,  0.07165513,\n",
       "        0.10028199,  0.06951626,  0.05694861,  0.08895415,  0.05901752,\n",
       "        0.04425331,  0.04724356,  0.0637962 ,  0.0526612 ,  0.07199424,\n",
       "        0.07644448,  0.06117954,  0.05666298,  0.07421813,  0.06324887,\n",
       "        0.09451965,  0.05175957,  0.05490475,  0.08559404,  0.09234104,\n",
       "        0.0789888 ,  0.06423369,  0.05129059,  0.05365785,  0.07646228,\n",
       "        0.06442066,  0.08474536,  0.07695282,  0.04230601,  0.07155809,\n",
       "        0.09151071,  0.06595299,  0.08216455,  0.13616549,  0.11442279,\n",
       "        0.1115705 ,  0.14345459,  0.11669949,  0.06744393,  0.11849486,\n",
       "        0.07781171,  0.069982  ,  0.10126701,  0.05838732,  0.06068345,\n",
       "        0.12499271,  0.08354065,  0.07504776,  0.13256769,  0.03828933,\n",
       "        0.07975584,  0.15641578,  0.16534954,  0.14659945,  0.16492871,\n",
       "        0.08550752,  0.05780127,  0.09891115,  0.05725997,  0.08298856,\n",
       "        0.0864248 ,  0.08601589,  0.08788053,  0.0361975 ,  0.05512947,\n",
       "        0.09130459,  0.07018744,  0.05093666,  0.04462329,  0.12376163,\n",
       "        0.08308674,  0.08920452,  0.14511165,  0.08930104,  0.06253019,\n",
       "        0.09313138,  0.04996207,  0.04248873,  0.06831153,  0.04880925,\n",
       "        0.05210053,  0.06861114,  0.05779474,  0.04255919,  0.10048681,\n",
       "        0.0568458 ,  0.05763826,  0.14036051,  0.09299838,  0.07114005,\n",
       "        0.12756024,  0.07031627,  0.06398047,  0.07398853,  0.03861043,\n",
       "        0.06443394,  0.07147843,  0.05329277,  0.05782244,  0.07530711,\n",
       "        0.07163681,  0.04409592,  0.07984524,  0.0608104 ,  0.07484014,\n",
       "        0.09813242,  0.06158445,  0.0712036 ,  0.13084896,  0.05013729,\n",
       "        0.0617998 ,  0.08815884,  0.04443202,  0.06200764,  0.08172239,\n",
       "        0.04648202,  0.05565335,  0.07697532,  0.04454222,  0.0714441 ,\n",
       "        0.09440411,  0.06035261,  0.07725609,  0.15350153,  0.09972765,\n",
       "        0.09459734,  0.13958932,  0.0595255 ,  0.04758088,  0.08317513,\n",
       "        0.07511335,  0.05920934,  0.05286418,  0.07231037,  0.06902716,\n",
       "        0.08444175,  0.06612785,  0.06746358,  0.11174543,  0.05808031,\n",
       "        0.09962321,  0.15777849,  0.14038959,  0.13416061,  0.17305084,\n",
       "        0.10165184,  0.04442734,  0.13967829,  0.08312795,  0.08987896,\n",
       "        0.14776032,  0.06587469,  0.0625832 ,  0.12620324,  0.07875094,\n",
       "        0.07419007,  0.15061209,  0.04548613,  0.11094996,  0.16568931,\n",
       "        0.12979967,  0.12101722,  0.16599182,  0.10049437,  0.0602593 ,\n",
       "        0.08477541,  0.0570373 ,  0.06165776,  0.07738354,  0.0622099 ,\n",
       "        0.07174112,  0.07270279,  0.05503141,  0.05321755,  0.07432961,\n",
       "        0.07850568,  0.07210122,  0.09195307,  0.05842021,  0.06359901,\n",
       "        0.10441629,  0.06805415,  0.06976974,  0.06809005,  0.0386315 ,\n",
       "        0.05343359,  0.04896662,  0.05299225,  0.07051883,  0.04207041,\n",
       "        0.04991878,  0.07640946,  0.07753347,  0.05225588,  0.06044358,\n",
       "        0.09759962,  0.07707455,  0.06116573,  0.09860071,  0.06374742,\n",
       "        0.06030035,  0.07073871,  0.05231886,  0.06609054,  0.07859152,\n",
       "        0.0699873 ])"
      ]
     },
     "execution_count": 44,
     "metadata": {},
     "output_type": "execute_result"
    }
   ],
   "source": [
    "(F_w_orig - np.min(F_w, axis = 0))/F_w_orig"
   ]
  }
 ],
 "metadata": {
  "kernelspec": {
   "display_name": "Python 3",
   "language": "python",
   "name": "python3"
  },
  "language_info": {
   "codemirror_mode": {
    "name": "ipython",
    "version": 3
   },
   "file_extension": ".py",
   "mimetype": "text/x-python",
   "name": "python",
   "nbconvert_exporter": "python",
   "pygments_lexer": "ipython3",
   "version": "3.4.3"
  }
 },
 "nbformat": 4,
 "nbformat_minor": 0
}
